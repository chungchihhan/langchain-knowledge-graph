{
 "cells": [
  {
   "cell_type": "code",
   "execution_count": 3,
   "metadata": {},
   "outputs": [
    {
     "data": {
      "text/plain": [
       "True"
      ]
     },
     "execution_count": 3,
     "metadata": {},
     "output_type": "execute_result"
    }
   ],
   "source": [
    "from dotenv import load_dotenv\n",
    "load_dotenv()"
   ]
  },
  {
   "cell_type": "code",
   "execution_count": 103,
   "metadata": {},
   "outputs": [],
   "source": [
    "from langchain_core.prompts import ChatPromptTemplate\n",
    "\n",
    "template = \"\"\"Based on the {context}, identify the entities and relations, and write the corresponding Cypher query to create the knowledge graph. Use the following format for the query:\n",
    "\n",
    "`CREATE (node1:Label1 {{property1: \"value1\", property2: \"value2\", ...}})-[relationship:RELATIONSHIP_TYPE {{propertyA: \"valueA\", propertyB: \"valueB\", ...}}]->(node2:Label2 {{property3: \"value3\", property4: \"value4\", ...}})`\n",
    "\n",
    "Convert the context into nodes and relationships using the Cypher language. The output should only contain the complete queries.\n",
    "\n",
    "Neo4j:\n",
    "\"\"\"\n",
    "prompt = ChatPromptTemplate.from_template(template)\n"
   ]
  },
  {
   "cell_type": "code",
   "execution_count": 104,
   "metadata": {},
   "outputs": [],
   "source": [
    "from langchain_openai import OpenAI\n",
    "from langchain_core.output_parsers import StrOutputParser\n",
    "\n",
    "model = OpenAI()\n",
    "output_parser = StrOutputParser()"
   ]
  },
  {
   "cell_type": "code",
   "execution_count": 118,
   "metadata": {},
   "outputs": [],
   "source": [
    "file_path = 'files/love-story.txt'\n",
    "\n",
    "with open(file_path, 'r') as file:\n",
    "    content = file.read()"
   ]
  },
  {
   "cell_type": "code",
   "execution_count": 106,
   "metadata": {},
   "outputs": [],
   "source": [
    "chain = prompt | model | output_parser\n",
    "neo4j_syntax = chain.invoke({\"context\": content})"
   ]
  },
  {
   "cell_type": "code",
   "execution_count": 107,
   "metadata": {},
   "outputs": [
    {
     "data": {
      "text/plain": [
       "'\\nCREATE (Harry:Person {name: \"Harry\", occupation: \"bookstore employee\", personality: \"shy, unassuming\"})\\nCREATE (Sophia:Person {name: \"Sophia\", occupation: \"college student\", personality: \"curious, book lover\"})\\nCREATE (Bookstore:Place {name: \"bookstore\", location: \"small college town\"})\\nCREATE (Autumn:Season {name: \"autumn\"})\\nCREATE (Rain:Weather {name: \"rain\"})\\nCREATE (Coffee:Drink {name: \"coffee\"})\\nCREATE (Park:Place {name: \"park\"})\\nCREATE (Creek:Place {name: \"creek\"})\\nCREATE (Night:Time {name: \"night\"})\\nCREATE (Stars:Sky {name: \"stars\"})\\nCREATE (City:Place {name: \"city\"})\\nCREATE (Wedding:Event {name: \"wedding\"})\\nCREATE (Love:Feeling {name: \"love\"})\\nCREATE (Confidence:Trait {name: \"confidence\"})\\nCREATE (Purpose:Goal {name: \"purpose\"})\\n\\nCREATE (Harry)-[:WORKS_AT]->(Bookstore)\\nCREATE (Sophia)-[:STUDENT_AT]->(Bookstore)\\nCREATE (Sophia)-[:LOVES]->(Books)\\n'"
      ]
     },
     "execution_count": 107,
     "metadata": {},
     "output_type": "execute_result"
    }
   ],
   "source": [
    "neo4j_syntax"
   ]
  },
  {
   "cell_type": "code",
   "execution_count": 108,
   "metadata": {},
   "outputs": [
    {
     "data": {
      "text/plain": [
       "['CREATE (Harry:Person {name: \"Harry\", occupation: \"bookstore employee\", personality: \"shy, unassuming\"})',\n",
       " 'CREATE (Sophia:Person {name: \"Sophia\", occupation: \"college student\", personality: \"curious, book lover\"})',\n",
       " 'CREATE (Bookstore:Place {name: \"bookstore\", location: \"small college town\"})',\n",
       " 'CREATE (Autumn:Season {name: \"autumn\"})',\n",
       " 'CREATE (Rain:Weather {name: \"rain\"})',\n",
       " 'CREATE (Coffee:Drink {name: \"coffee\"})',\n",
       " 'CREATE (Park:Place {name: \"park\"})',\n",
       " 'CREATE (Creek:Place {name: \"creek\"})',\n",
       " 'CREATE (Night:Time {name: \"night\"})',\n",
       " 'CREATE (Stars:Sky {name: \"stars\"})',\n",
       " 'CREATE (City:Place {name: \"city\"})',\n",
       " 'CREATE (Wedding:Event {name: \"wedding\"})',\n",
       " 'CREATE (Love:Feeling {name: \"love\"})',\n",
       " 'CREATE (Confidence:Trait {name: \"confidence\"})',\n",
       " 'CREATE (Purpose:Goal {name: \"purpose\"})',\n",
       " 'CREATE (Harry)-[:WORKS_AT]->(Bookstore)',\n",
       " 'CREATE (Sophia)-[:STUDENT_AT]->(Bookstore)',\n",
       " 'CREATE (Sophia)-[:LOVES]->(Books)']"
      ]
     },
     "execution_count": 108,
     "metadata": {},
     "output_type": "execute_result"
    }
   ],
   "source": [
    "queries = [line.strip() for line in neo4j_syntax.split('\\n') if line.strip()]\n",
    "queries"
   ]
  },
  {
   "cell_type": "code",
   "execution_count": 110,
   "metadata": {},
   "outputs": [],
   "source": [
    "import os \n",
    "from neo4j import GraphDatabase\n",
    "\n",
    "# Connect to the Neo4j database\n",
    "URL = os.getenv(\"URL\")\n",
    "USERNAME = os.getenv(\"USERNAME\")\n",
    "PASSWORD = os.getenv(\"PASSWORD\")\n",
    "\n",
    "driver = GraphDatabase.driver(URL, auth=(USERNAME, PASSWORD))\n",
    "\n",
    "# Function to execute a write query\n",
    "def write_query(tx, query):\n",
    "    tx.run(query)\n",
    "\n",
    "# Execute the queries\n",
    "with driver.session() as session:\n",
    "    for query in queries:\n",
    "        try:\n",
    "            session.execute_write(write_query, query)\n",
    "        except:\n",
    "            print(f\"Error with query: {query}\")\n",
    "# Close the connection\n",
    "driver.close()"
   ]
  },
  {
   "cell_type": "code",
   "execution_count": 113,
   "metadata": {},
   "outputs": [
    {
     "name": "stdout",
     "output_type": "stream",
     "text": [
      "\n",
      "\n",
      "\u001b[1m> Entering new GraphCypherQAChain chain...\u001b[0m\n",
      "Generated Cypher:\n",
      "\u001b[32;1m\u001b[1;3mMATCH (p:Person {name: \"Sophia\"})-[:LOVES]->(d:Drink)\n",
      "RETURN d.name\u001b[0m\n",
      "Full Context:\n",
      "\u001b[32;1m\u001b[1;3m[]\u001b[0m\n",
      "\n",
      "\u001b[1m> Finished chain.\u001b[0m\n"
     ]
    },
    {
     "data": {
      "text/plain": [
       "\"I don't know the answer.\""
      ]
     },
     "execution_count": 113,
     "metadata": {},
     "output_type": "execute_result"
    }
   ],
   "source": [
    "from langchain.chains import GraphCypherQAChain\n",
    "from langchain_community.graphs import Neo4jGraph\n",
    "from langchain_openai import ChatOpenAI\n",
    "\n",
    "graph = Neo4jGraph(url=URL, username=USERNAME, password=PASSWORD)\n",
    "\n",
    "chain = GraphCypherQAChain.from_llm(\n",
    "    ChatOpenAI(temperature=0), graph=graph, verbose=True\n",
    ")\n",
    "\n",
    "chain.run(\"What does Sophia love?\")"
   ]
  },
  {
   "cell_type": "code",
   "execution_count": 115,
   "metadata": {},
   "outputs": [
    {
     "name": "stdout",
     "output_type": "stream",
     "text": [
      "\n",
      "\n",
      "\u001b[1m> Entering new GraphCypherQAChain chain...\u001b[0m\n",
      "Generated Cypher:\n",
      "\u001b[32;1m\u001b[1;3mMATCH (p:Person {name: \"Sophia\"}) RETURN p;\u001b[0m\n",
      "Full Context:\n",
      "\u001b[32;1m\u001b[1;3m[{'p': {'occupation': 'college student', 'personality': 'curious, book lover', 'name': 'Sophia'}}]\u001b[0m\n",
      "\n",
      "\u001b[1m> Finished chain.\u001b[0m\n"
     ]
    },
    {
     "data": {
      "text/plain": [
       "'Sophia is a college student who is curious and loves books.'"
      ]
     },
     "execution_count": 115,
     "metadata": {},
     "output_type": "execute_result"
    }
   ],
   "source": [
    "chain.run(\"Who is Sophia?\")"
   ]
  },
  {
   "cell_type": "code",
   "execution_count": null,
   "metadata": {},
   "outputs": [],
   "source": []
  }
 ],
 "metadata": {
  "kernelspec": {
   "display_name": "venv",
   "language": "python",
   "name": "python3"
  },
  "language_info": {
   "codemirror_mode": {
    "name": "ipython",
    "version": 3
   },
   "file_extension": ".py",
   "mimetype": "text/x-python",
   "name": "python",
   "nbconvert_exporter": "python",
   "pygments_lexer": "ipython3",
   "version": "3.10.12"
  }
 },
 "nbformat": 4,
 "nbformat_minor": 2
}
