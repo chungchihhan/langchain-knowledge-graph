{
 "cells": [
  {
   "cell_type": "markdown",
   "metadata": {},
   "source": [
    "####  The `search` method returned the title and the related search"
   ]
  },
  {
   "cell_type": "code",
   "execution_count": 1,
   "metadata": {},
   "outputs": [
    {
     "name": "stdout",
     "output_type": "stream",
     "text": [
      "['Taiwan', 'Taiwanese', 'Regions of Taiwan', 'Geography of Taiwan', 'Taiwanese indigenous peoples', 'Taiwan (disambiguation)', 'Taiwanese people', 'History of Taiwan', 'Taiwan, China', 'New Taiwan dollar']\n"
     ]
    }
   ],
   "source": [
    "import wikipedia as wp\n",
    "print(wp.search(\"Taiwan\"))"
   ]
  },
  {
   "cell_type": "markdown",
   "metadata": {},
   "source": [
    "####  limit the number of search titles by passing a value for the `result` parameter"
   ]
  },
  {
   "cell_type": "code",
   "execution_count": 3,
   "metadata": {},
   "outputs": [
    {
     "name": "stdout",
     "output_type": "stream",
     "text": [
      "['Taiwan', 'Taiwanese', 'Regions of Taiwan']\n"
     ]
    }
   ],
   "source": [
    "print(wp.search(\"Taiwan\", results=3))"
   ]
  },
  {
   "cell_type": "markdown",
   "metadata": {},
   "source": [
    "#### The `summary` of the give title printed and we customized the number of sentences in the summary text to be displayed by using the `sentences` argument."
   ]
  },
  {
   "cell_type": "code",
   "execution_count": 5,
   "metadata": {},
   "outputs": [
    {
     "name": "stdout",
     "output_type": "stream",
     "text": [
      "Taiwan, officially the Republic of China (ROC), is a country in East Asia.\n",
      "It is located at the junction of the East and South China Seas in the northwestern Pacific Ocean, with the People's Republic of China (PRC) to the northwest, Japan to the northeast, and the Philippines to the south. The territories controlled by the ROC consist of 168 islands with a combined area of 36,193 square kilometres (13,974 square miles).\n"
     ]
    }
   ],
   "source": [
    "print(wp.summary(\"Taiwan\",sentences=3))"
   ]
  },
  {
   "cell_type": "markdown",
   "metadata": {},
   "source": [
    "#### `summary()` method raises a \"disambiguation error\" if the page doesn't exist. Let's understand the following example."
   ]
  },
  {
   "cell_type": "code",
   "execution_count": 8,
   "metadata": {},
   "outputs": [
    {
     "ename": "PageError",
     "evalue": "Page id \"sonfskdnf\" does not match any pages. Try another id!",
     "output_type": "error",
     "traceback": [
      "\u001b[0;31m---------------------------------------------------------------------------\u001b[0m",
      "\u001b[0;31mIndexError\u001b[0m                                Traceback (most recent call last)",
      "File \u001b[0;32m~/langchain-knowledge-graph/venv/lib/python3.10/site-packages/wikipedia/wikipedia.py:272\u001b[0m, in \u001b[0;36mpage\u001b[0;34m(title, pageid, auto_suggest, redirect, preload)\u001b[0m\n\u001b[1;32m    271\u001b[0m \u001b[38;5;28;01mtry\u001b[39;00m:\n\u001b[0;32m--> 272\u001b[0m   title \u001b[38;5;241m=\u001b[39m suggestion \u001b[38;5;129;01mor\u001b[39;00m \u001b[43mresults\u001b[49m\u001b[43m[\u001b[49m\u001b[38;5;241;43m0\u001b[39;49m\u001b[43m]\u001b[49m\n\u001b[1;32m    273\u001b[0m \u001b[38;5;28;01mexcept\u001b[39;00m \u001b[38;5;167;01mIndexError\u001b[39;00m:\n\u001b[1;32m    274\u001b[0m   \u001b[38;5;66;03m# if there is no suggestion or search results, the page doesn't exist\u001b[39;00m\n",
      "\u001b[0;31mIndexError\u001b[0m: list index out of range",
      "\nDuring handling of the above exception, another exception occurred:\n",
      "\u001b[0;31mPageError\u001b[0m                                 Traceback (most recent call last)",
      "Cell \u001b[0;32mIn[8], line 1\u001b[0m\n\u001b[0;32m----> 1\u001b[0m \u001b[38;5;28mprint\u001b[39m(\u001b[43mwp\u001b[49m\u001b[38;5;241;43m.\u001b[39;49m\u001b[43msummary\u001b[49m\u001b[43m(\u001b[49m\u001b[38;5;124;43m\"\u001b[39;49m\u001b[38;5;124;43msonfskdnf\u001b[39;49m\u001b[38;5;124;43m\"\u001b[39;49m\u001b[43m)\u001b[49m)  \n",
      "File \u001b[0;32m~/langchain-knowledge-graph/venv/lib/python3.10/site-packages/wikipedia/util.py:28\u001b[0m, in \u001b[0;36mcache.__call__\u001b[0;34m(self, *args, **kwargs)\u001b[0m\n\u001b[1;32m     26\u001b[0m   ret \u001b[38;5;241m=\u001b[39m \u001b[38;5;28mself\u001b[39m\u001b[38;5;241m.\u001b[39m_cache[key]\n\u001b[1;32m     27\u001b[0m \u001b[38;5;28;01melse\u001b[39;00m:\n\u001b[0;32m---> 28\u001b[0m   ret \u001b[38;5;241m=\u001b[39m \u001b[38;5;28mself\u001b[39m\u001b[38;5;241m.\u001b[39m_cache[key] \u001b[38;5;241m=\u001b[39m \u001b[38;5;28;43mself\u001b[39;49m\u001b[38;5;241;43m.\u001b[39;49m\u001b[43mfn\u001b[49m\u001b[43m(\u001b[49m\u001b[38;5;241;43m*\u001b[39;49m\u001b[43margs\u001b[49m\u001b[43m,\u001b[49m\u001b[43m \u001b[49m\u001b[38;5;241;43m*\u001b[39;49m\u001b[38;5;241;43m*\u001b[39;49m\u001b[43mkwargs\u001b[49m\u001b[43m)\u001b[49m\n\u001b[1;32m     30\u001b[0m \u001b[38;5;28;01mreturn\u001b[39;00m ret\n",
      "File \u001b[0;32m~/langchain-knowledge-graph/venv/lib/python3.10/site-packages/wikipedia/wikipedia.py:231\u001b[0m, in \u001b[0;36msummary\u001b[0;34m(title, sentences, chars, auto_suggest, redirect)\u001b[0m\n\u001b[1;32m    216\u001b[0m \u001b[38;5;250m\u001b[39m\u001b[38;5;124;03m'''\u001b[39;00m\n\u001b[1;32m    217\u001b[0m \u001b[38;5;124;03mPlain text summary of the page.\u001b[39;00m\n\u001b[1;32m    218\u001b[0m \n\u001b[0;32m   (...)\u001b[0m\n\u001b[1;32m    226\u001b[0m \u001b[38;5;124;03m* redirect - allow redirection without raising RedirectError\u001b[39;00m\n\u001b[1;32m    227\u001b[0m \u001b[38;5;124;03m'''\u001b[39;00m\n\u001b[1;32m    229\u001b[0m \u001b[38;5;66;03m# use auto_suggest and redirect to get the correct article\u001b[39;00m\n\u001b[1;32m    230\u001b[0m \u001b[38;5;66;03m# also, use page's error checking to raise DisambiguationError if necessary\u001b[39;00m\n\u001b[0;32m--> 231\u001b[0m page_info \u001b[38;5;241m=\u001b[39m \u001b[43mpage\u001b[49m\u001b[43m(\u001b[49m\u001b[43mtitle\u001b[49m\u001b[43m,\u001b[49m\u001b[43m \u001b[49m\u001b[43mauto_suggest\u001b[49m\u001b[38;5;241;43m=\u001b[39;49m\u001b[43mauto_suggest\u001b[49m\u001b[43m,\u001b[49m\u001b[43m \u001b[49m\u001b[43mredirect\u001b[49m\u001b[38;5;241;43m=\u001b[39;49m\u001b[43mredirect\u001b[49m\u001b[43m)\u001b[49m\n\u001b[1;32m    232\u001b[0m title \u001b[38;5;241m=\u001b[39m page_info\u001b[38;5;241m.\u001b[39mtitle\n\u001b[1;32m    233\u001b[0m pageid \u001b[38;5;241m=\u001b[39m page_info\u001b[38;5;241m.\u001b[39mpageid\n",
      "File \u001b[0;32m~/langchain-knowledge-graph/venv/lib/python3.10/site-packages/wikipedia/wikipedia.py:275\u001b[0m, in \u001b[0;36mpage\u001b[0;34m(title, pageid, auto_suggest, redirect, preload)\u001b[0m\n\u001b[1;32m    272\u001b[0m       title \u001b[38;5;241m=\u001b[39m suggestion \u001b[38;5;129;01mor\u001b[39;00m results[\u001b[38;5;241m0\u001b[39m]\n\u001b[1;32m    273\u001b[0m     \u001b[38;5;28;01mexcept\u001b[39;00m \u001b[38;5;167;01mIndexError\u001b[39;00m:\n\u001b[1;32m    274\u001b[0m       \u001b[38;5;66;03m# if there is no suggestion or search results, the page doesn't exist\u001b[39;00m\n\u001b[0;32m--> 275\u001b[0m       \u001b[38;5;28;01mraise\u001b[39;00m PageError(title)\n\u001b[1;32m    276\u001b[0m   \u001b[38;5;28;01mreturn\u001b[39;00m WikipediaPage(title, redirect\u001b[38;5;241m=\u001b[39mredirect, preload\u001b[38;5;241m=\u001b[39mpreload)\n\u001b[1;32m    277\u001b[0m \u001b[38;5;28;01melif\u001b[39;00m pageid \u001b[38;5;129;01mis\u001b[39;00m \u001b[38;5;129;01mnot\u001b[39;00m \u001b[38;5;28;01mNone\u001b[39;00m:\n",
      "\u001b[0;31mPageError\u001b[0m: Page id \"sonfskdnf\" does not match any pages. Try another id!"
     ]
    }
   ],
   "source": [
    "print(wp.summary(\"sonfskdnf\"))  "
   ]
  },
  {
   "cell_type": "markdown",
   "metadata": {},
   "source": [
    "#### Getting Full Wikipedia Page Data\n",
    "It returns the page content, categories, coordinate, images, links and other metadata."
   ]
  },
  {
   "cell_type": "code",
   "execution_count": 18,
   "metadata": {},
   "outputs": [
    {
     "name": "stdout",
     "output_type": "stream",
     "text": [
      "Taiwan\n",
      "https://en.wikipedia.org/wiki/Taiwan\n",
      "Taiwan, officially the Republic of China (ROC), is a country in East Asia.\n",
      "It is located at the junc\n",
      "['.tw', '.台湾', '.台灣', '100 Peaks of Taiwan', '1911 Revolution']\n",
      "['1912 establishments in China', 'All Wikipedia articles written in American English', 'All articles containing potentially dated statements', 'All articles with dead external links', 'Articles containing Amis-language text']\n",
      "['https://upload.wikimedia.org/wikipedia/commons/3/3b/05.25_%E7%B8%BD%E7%B5%B1%E8%A6%96%E5%B0%8E%E6%BC%A2%E5%85%8933%E8%99%9F%E6%BC%94%E7%BF%92_%2834750802021%29.jpg', 'https://upload.wikimedia.org/wikipedia/commons/1/14/11.27_%E7%B8%BD%E7%B5%B1%E8%A7%80%E8%B3%9E%E3%80%8C2021%E4%B8%AD%E8%8F%AF%E8%81%B7%E6%A3%92%E7%B8%BD%E5%86%A0%E8%BB%8D%E8%B3%BD%E9%A6%96%E6%88%B0%E3%80%8D.jpg', 'https://upload.wikimedia.org/wikipedia/commons/7/7d/2012%E5%B9%B4%E8%87%BA%E7%81%A3519%E6%B0%91%E9%80%B2%E9%BB%A8%E5%97%86%E9%A6%AC%E8%B8%B9%E5%85%B1%E6%99%9A%E6%9C%83_Democratic_Progressive_Party%27s_Anti-Ma_Ying-jeou_Event_in_Taipei%2C_TAIWAN.jpg', 'https://upload.wikimedia.org/wikipedia/commons/a/a3/201402_%E5%9C%8B%E7%AB%8B%E6%95%85%E5%AE%AE%E5%8D%9A%E7%89%A9%E9%99%A2_%E6%96%B0%E5%B9%B4.jpg', 'https://upload.wikimedia.org/wikipedia/commons/f/f2/2015_Ma%E2%80%93Xi_Meeting_08.jpg']\n"
     ]
    }
   ],
   "source": [
    "object = wp.page(\"Taiwan\")\n",
    "print(object.title)\n",
    "print(object.url)\n",
    "print(object.content[:100]) #first 100 words\n",
    "print(object.links[0:5])\n",
    "print(object.categories[0:5])\n",
    "print(object.images[0:5])"
   ]
  }
 ],
 "metadata": {
  "kernelspec": {
   "display_name": "venv",
   "language": "python",
   "name": "python3"
  },
  "language_info": {
   "codemirror_mode": {
    "name": "ipython",
    "version": 3
   },
   "file_extension": ".py",
   "mimetype": "text/x-python",
   "name": "python",
   "nbconvert_exporter": "python",
   "pygments_lexer": "ipython3",
   "version": "3.10.12"
  }
 },
 "nbformat": 4,
 "nbformat_minor": 2
}
