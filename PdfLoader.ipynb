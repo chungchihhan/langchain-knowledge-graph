{
 "cells": [
  {
   "cell_type": "code",
   "execution_count": 64,
   "metadata": {},
   "outputs": [
    {
     "data": {
      "text/plain": [
       "True"
      ]
     },
     "execution_count": 64,
     "metadata": {},
     "output_type": "execute_result"
    }
   ],
   "source": [
    "from dotenv import load_dotenv\n",
    "load_dotenv()"
   ]
  },
  {
   "cell_type": "code",
   "execution_count": 31,
   "metadata": {},
   "outputs": [],
   "source": [
    "from langchain_community.document_loaders import PyPDFLoader\n",
    "\n",
    "loader = PyPDFLoader(\"files/中華郵政股份有限公司_資訊整體架構健檢及優化服務專案_建議書徵求說明書0420.pdf\")\n",
    "pages = loader.load_and_split()"
   ]
  },
  {
   "cell_type": "code",
   "execution_count": 32,
   "metadata": {},
   "outputs": [
    {
     "data": {
      "text/plain": [
       "Document(page_content='資訊整體架構健檢及優化服務\\n專案 \\n建議書徵求說明書  \\n(Request for Proposal )  \\n \\n \\n \\n \\n \\n \\n \\n108年11月25日\\n交通部中華郵政股份有限公司', metadata={'source': 'files/中華郵政股份有限公司_資訊整體架構健檢及優化服務專案_建議書徵求說明書0420.pdf', 'page': 0})"
      ]
     },
     "execution_count": 32,
     "metadata": {},
     "output_type": "execute_result"
    }
   ],
   "source": [
    "pages[0]"
   ]
  },
  {
   "cell_type": "code",
   "execution_count": 37,
   "metadata": {},
   "outputs": [
    {
     "name": "stdout",
     "output_type": "stream",
     "text": [
      "27: 「資訊整體架構健檢及優化服務 專案」建議書徵求說明書   \n",
      " \n",
      "25  \n",
      "交通部中華郵政股份有限公司  \n",
      "(二)專案管理  \n",
      "1. 專案工作規劃  \n",
      "說明專案工作範圍、執行專案工作項目、 時程規劃、 專案執\n",
      "行策略、專案啟動會議及各式定期或不定期會議、 以及專案\n",
      "進行過程中所建立之執行與管制紀錄。  \n",
      "2. 專案風險管制 \n",
      "專案進行期間，對於專案應預先提出專案可能之風險，針對\n",
      "專案可能之風險應提出有效因應方式 ， 對專案進度與品質應\n",
      "建立監控方法，以期有效解決問題與異常狀況，並明確說明\n",
      "雙方應配合與協調之事實。  \n",
      "3. 專案狀態報告  \n",
      "自開工日次月起每月交 付本專案前 1個月之專案狀態報告\n",
      "28: 「資訊整體架構健檢及優化服務 專案」建議書徵求說明書   \n",
      " \n",
      "26  \n",
      "交通部中華郵政股份有限公司  \n",
      "說明得標廠商 與分包商的作業分工及權責內容，作業分工說\n",
      "明，必須分別依工作事項劃分 及依專案生命週期劃分 兩個部\n",
      "分進行說明。  \n",
      "(二)溝通介面 及方法 \n",
      "說明得標廠商 與分包商在專案生命週期各階段作業分工活動\n",
      "相依性及協調事項，對於每一項相依活動，都必須說明活動\n",
      "負責人、溝通方法 及溝通管理。  \n",
      "十二、專案稽核需求  \n",
      "(一) 本公司得視本專案之執行狀況，對得標廠商提出外部稽核要\n",
      "求，由本公司指派人員不定期 (須事先知會日期 )，至得標廠\n",
      "商執行本專案之辦公室或地點，執行稽核活動 ，\n",
      "3: 「資訊整體架構健檢及優化服務 專案」建議書徵求說明書   \n",
      " \n",
      "1 \n",
      "交通部中華郵政股份有限公司  \n",
      "壹、概述 \n",
      "一、專案緣起 \n",
      "鑑於本公司業務對於資訊系統依賴度不斷增加，另考量未來通路\n",
      "與電子支付 發展趨勢，無論由實體到虛擬，由支局到網路再到雲\n",
      "端，甚至於電子行動業務，要求 7x24小時不中斷服務作業的壓力\n",
      "與日俱增；爰透過 第三方專業諮詢團隊針對本公司資訊整體架構\n",
      "進行健檢 ，並提出 優化方向與方案建議 ，以強化資訊作業品質，\n",
      "降低資訊作業風險，提升資訊組織效率，提供顧客穩定、安全及\n",
      "優質金融資訊服務，進而提升 公司營運綜效及創造企業價值。  \n",
      "二、專案目標  \n",
      "(一) 蒐集並查訪本公司資\n"
     ]
    }
   ],
   "source": [
    "from langchain_community.vectorstores import FAISS\n",
    "from langchain_openai import OpenAIEmbeddings\n",
    "\n",
    "faiss_index = FAISS.from_documents(pages, OpenAIEmbeddings())\n",
    "docs = faiss_index.similarity_search(\"專案目標是什麼\", k=3)\n",
    "for doc in docs:\n",
    "    print(str(doc.metadata[\"page\"]) + \":\", doc.page_content[:300])"
   ]
  }
 ],
 "metadata": {
  "kernelspec": {
   "display_name": "venv",
   "language": "python",
   "name": "python3"
  },
  "language_info": {
   "codemirror_mode": {
    "name": "ipython",
    "version": 3
   },
   "file_extension": ".py",
   "mimetype": "text/x-python",
   "name": "python",
   "nbconvert_exporter": "python",
   "pygments_lexer": "ipython3",
   "version": "3.10.12"
  }
 },
 "nbformat": 4,
 "nbformat_minor": 2
}
