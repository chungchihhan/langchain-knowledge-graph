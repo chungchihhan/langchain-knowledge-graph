{
 "cells": [
  {
   "cell_type": "code",
   "execution_count": 1,
   "metadata": {},
   "outputs": [
    {
     "data": {
      "text/plain": [
       "True"
      ]
     },
     "execution_count": 1,
     "metadata": {},
     "output_type": "execute_result"
    }
   ],
   "source": [
    "from dotenv import load_dotenv\n",
    "load_dotenv()"
   ]
  },
  {
   "cell_type": "code",
   "execution_count": 23,
   "metadata": {},
   "outputs": [],
   "source": [
    "from langchain_core.prompts import ChatPromptTemplate\n",
    "\n",
    "template = \"\"\"Based on the {context}, identify the entities and relations, and write the corresponding Cypher query to create the knowledge graph in details.Use the following format for the query:\n",
    "\n",
    "`CREATE (node1:Label1 {{property1: \"value1\", property2: \"value2\", ...}})-[relationship:RELATIONSHIP_TYPE {{propertyA: \"valueA\", propertyB: \"valueB\", ...}}]->(node2:Label2 {{property3: \"value3\", property4: \"value4\", ...}})`\n",
    "\n",
    "Convert the context into nodes and relationships using the Cypher language. The output should only contain the complete queries.\n",
    "\n",
    "Neo4j:\n",
    "\"\"\"\n",
    "prompt = ChatPromptTemplate.from_template(template)\n"
   ]
  },
  {
   "cell_type": "code",
   "execution_count": 24,
   "metadata": {},
   "outputs": [],
   "source": [
    "from langchain_openai import OpenAI\n",
    "from langchain_core.output_parsers import StrOutputParser\n",
    "\n",
    "model = OpenAI()\n",
    "output_parser = StrOutputParser()"
   ]
  },
  {
   "cell_type": "code",
   "execution_count": 25,
   "metadata": {},
   "outputs": [],
   "source": [
    "from langchain_community.document_loaders import PyPDFLoader\n",
    "\n",
    "loader = PyPDFLoader(\"files/中華郵政股份有限公司_資訊整體架構健檢及優化服務專案_建議書徵求說明書0420.pdf\")\n",
    "pages = loader.load_and_split()"
   ]
  },
  {
   "cell_type": "code",
   "execution_count": 27,
   "metadata": {},
   "outputs": [
    {
     "data": {
      "text/plain": [
       "'資訊整體架構健檢及優化服務\\n專案 \\n建議書徵求說明書  \\n(Request for Proposal )  \\n \\n \\n \\n \\n \\n \\n \\n108年11月25日\\n交通部中華郵政股份有限公司「資訊整體架構健檢及優化服務 專案」建議書徵求說明書   \\n \\nI \\n交通部中華郵政股份有限公司  \\n目錄  \\n壹、 概述  ................................ ................................ ................................ ....................  1 \\n一、  專案緣起  ................................ ................................ ................................ ...............................  1 \\n二、  專案目標  ................................ ................................ ................................ ...............................  1 \\n貳、 文件詞彙與用語  ................................ ................................ ................................  2 \\n一、  名詞定義  ................................ ................................ ................................ ...............................  2 \\n二、  文件用語  ................................ ................................ ................................ ...............................  4 \\n參、  專案說明  ................................ ................................ ................................ ............  5 \\n一、  專案名稱  ................................ ................................ ................................ ...............................  5 \\n二、  專案範圍  ................................ ................................ ................................ ...............................  5 \\n三、  專案時程  ................................ ................................ ................................ ...............................  5 \\n肆、  交付項目及時程  ................................ ................................ ................................  6 \\n一、  交付項目與時程  ................................ ................................ ................................ ...................  6 \\n ................................ ................................ ................................ ................................ .........................  6 \\n二、  交付方法與數量  ................................ ................................ ................................ ...................  6 \\n伍、  資訊系統整體架構現況說明  ................................ ................................ ............  7 \\n一、  系統軟硬體環境說明  ................................ ................................ ................................ ...........  7 \\n陸、  專案需求  ................................ ................................ ................................ ............  9 \\n一、  資訊硬體及系統軟體優化需求  ................................ ................................ ...........................  9 \\n二、  資訊安全架構與管理機制優化需求  ................................ ................................ .................  14 \\n三、 資訊處雙中心機房環境優化需求  ................................ ................................ .....................  16 \\n四、  應用軟體開發優化需求  ................................ ................................ ................................ ..... 17 \\n五、  資訊服務對業務發展支援的優化需求  ................................ ................................ .............  19 \\n六、  資訊部門人員組織優化需求  ................................ ................................ .............................  20 \\n七、 報告說明會需求  ................................ ................................ ................................ .................  22 \\n八、 專案品質保證需求  ................................ ................................ ................................ .............  22 \\n九、  專案資安需求  ................................ ................................ ................................ .....................  22 \\n十、  專案組織與管理需求  ................................ ................................ ................................ .........  22 \\n十一、  分包管理需求  ................................ ................................ ................................ .................  25「資訊整體架構健檢及優化服務 專案」建議書徵求說明書   \\n \\nII  \\n交通部中華郵政股份有限公司  \\n十二、  專案稽核需求  ................................ ................................ ................................ .................  26 \\n十三、  工作說明書需求  ................................ ................................ ................................ .............  27 \\n柒、  驗收準則  ................................ ................................ ................................ ..........  28 \\n一、  文件驗證準則  ................................ ................................ ................................ .....................  28 \\n二、  驗收審查準則  ................................ ................................ ................................ .....................  28 \\n捌、  建議書  ................................ ................................ ................................ ..............  29 \\n一、  服務建議書製作  ................................ ................................ ................................ .................  29 \\n二、  價格建議書製作  ................................ ................................ ................................ .................  31 \\n三、  建議書製 作規則(詳招標規範 ) ................................ ................................ .........................  32 \\n四、 建議書評選辦法 (詳招標規範 ) ................................ ................................ .........................  32「資訊整體架構健檢及優化服務 專案」建議書徵求說明書   \\n \\n1 \\n交通部中華郵政股份有限公司  \\n壹、概述 \\n一、專案緣起 \\n鑑於本公司業務對於資訊系統依賴度不斷增加，另考量未來通路\\n與電子支付 發展趨勢，無論由實體到虛擬，由支局到網路再到雲\\n端，甚至於電子行動業務，要求 7x24小時不中斷服務作業的壓力\\n與日俱增；爰透過 第三方專業諮詢團隊針對本公司資訊整體架構\\n進行健檢 ，並提出 優化方向與方案建議 ，以強化資訊作業品質，\\n降低資訊作業風險，提升資訊組織效率，提供顧客穩定、安全及\\n優質金融資訊服務，進而提升 公司營運綜效及創造企業價值。  \\n二、專案目標  \\n(一) 蒐集並查訪本公司資訊軟硬體架構與管理現況，確認目前資訊\\n服務提供情形，並據以分析資訊整體架構 及運作流程 ，提供各\\n面向優化方案。  \\n(二) 評估並提出適合本公司資訊作業 各面向的 改善建議與方案 ，以\\n提供符合本公司經營策略與業務需求且具持續改善能力之服\\n務導向資訊變革依據 ，俾強化本公司資訊服務能力，提升服務\\n品質，達到降低資訊異常發生頻率、提高資訊 系統運作效能並\\n提升資訊 作業維運效率目標 。「資訊整體架構健檢及優化服務 專案」建議書徵求說明書   \\n \\n2  \\n交通部中華郵政股份有限公司  \\n貳、文件詞彙與用語  \\n一、名詞定義  \\n(一) 開工日 \\n係指召開本專案開工會議 (Kick-off Meeting) 當日。 \\n(二) 缺失 \\n與標準或需求有所不同或不一致的部分稱為缺失\\n（Defect） ，本文件中「缺失」用語包含文件中的缺失及程\\n式缺失（ Bug） 。程式缺失包括平臺 軟體功能、操作、畫面、\\n效能、資訊安全等軟體開發或管理上之預料外行為。缺失可\\n以依照其屬性及影響程度，給予不同分類和權值。  \\n(三) 嚴重缺失  \\n嚴重缺失包含： (1)得標廠商所交付之文件，存在錯誤描\\n述、遺漏描述、不符合本公司作業標準的描述或無法執行之\\n描述。(2)得標廠商所交付之程式存在缺失，造成系統當機\\n或部分系統模組無法使用。嚴重等級缺失之權值應訂為 3。 \\n(四) 中度缺失  \\n中度缺失包含： (1)得標廠商所交付之文件，存在不清楚或\\n不足夠的描述、用語不恰當。 (2)得標廠商所交付之程式存\\n在缺失，造成資料處理錯誤、部分系統功能無法使用。中度\\n等級缺失之權值應訂為 2。 \\n(五) 輕度缺失  \\n輕度缺失包含： (1)得標廠商所交付之文件，存在編輯上的\\n錯誤。(2)得標廠商所交付之程式存在缺失，造成系統操作\\n畫面、報表呈現格式和使用者期望不一致。輕度等級缺失之\\n權值應訂為 1。'"
      ]
     },
     "execution_count": 27,
     "metadata": {},
     "output_type": "execute_result"
    }
   ],
   "source": [
    "content = ''\n",
    "for i in pages[:5]:\n",
    "    content += i.page_content\n",
    "content"
   ]
  },
  {
   "cell_type": "code",
   "execution_count": 30,
   "metadata": {},
   "outputs": [
    {
     "data": {
      "text/plain": [
       "'\\nCREATE (Company:Label1 {name: \"交通部中華郵政股份有限公司\"})-[CONDUCTS:RELATIONSHIP_TYPE {project_name: \"資訊整體架構健檢及優化服務 專案\", start_date: \"108年11月25日\"}]->(Proposal:Label2 {name: \"建議書徵求說明書\", date: \"108年11月25日\"});\\nCREATE (Proposal)-[:CONTAINS]->(Overview:Label3 {name: \"概述\"});\\nCREATE (Overview)-[:CONTAINS]->(Project_Rationale:Label4 {name: \"專案緣起\", start_date: \"108年11月25日\"});\\nCREATE (Overview)-[:CONTAINS]->(Project_Goal:Label4 {name: \"專案目標\"});\\nCREATE (Proposal)-[:CONTAINS]->(Terminology:Label3 {name: \"文件詞彙與用語\"});\\nCREATE (Terminology)-[:CONTAINS]->(Definitions:Label4 {name: \"名詞定'"
      ]
     },
     "execution_count": 30,
     "metadata": {},
     "output_type": "execute_result"
    }
   ],
   "source": [
    "chain = prompt | model | output_parser\n",
    "neo4j_syntax = chain.invoke({\"context\": content})\n",
    "neo4j_syntax"
   ]
  },
  {
   "cell_type": "code",
   "execution_count": 31,
   "metadata": {},
   "outputs": [
    {
     "data": {
      "text/plain": [
       "['CREATE (Company:Label1 {name: \"交通部中華郵政股份有限公司\"})-[CONDUCTS:RELATIONSHIP_TYPE {project_name: \"資訊整體架構健檢及優化服務 專案\", start_date: \"108年11月25日\"}]->(Proposal:Label2 {name: \"建議書徵求說明書\", date: \"108年11月25日\"});',\n",
       " 'CREATE (Proposal)-[:CONTAINS]->(Overview:Label3 {name: \"概述\"});',\n",
       " 'CREATE (Overview)-[:CONTAINS]->(Project_Rationale:Label4 {name: \"專案緣起\", start_date: \"108年11月25日\"});',\n",
       " 'CREATE (Overview)-[:CONTAINS]->(Project_Goal:Label4 {name: \"專案目標\"});',\n",
       " 'CREATE (Proposal)-[:CONTAINS]->(Terminology:Label3 {name: \"文件詞彙與用語\"});',\n",
       " 'CREATE (Terminology)-[:CONTAINS]->(Definitions:Label4 {name: \"名詞定']"
      ]
     },
     "execution_count": 31,
     "metadata": {},
     "output_type": "execute_result"
    }
   ],
   "source": [
    "queries = [line.strip() for line in neo4j_syntax.split('\\n') if line.strip()]\n",
    "queries"
   ]
  },
  {
   "cell_type": "code",
   "execution_count": 32,
   "metadata": {},
   "outputs": [
    {
     "name": "stdout",
     "output_type": "stream",
     "text": [
      "Error with query: CREATE (Terminology)-[:CONTAINS]->(Definitions:Label4 {name: \"名詞定\n"
     ]
    }
   ],
   "source": [
    "import os \n",
    "from neo4j import GraphDatabase\n",
    "\n",
    "# Connect to the Neo4j database\n",
    "URL = os.getenv(\"URL\")\n",
    "USERNAME = os.getenv(\"USERNAME\")\n",
    "PASSWORD = os.getenv(\"PASSWORD\")\n",
    "\n",
    "driver = GraphDatabase.driver(URL, auth=(USERNAME, PASSWORD))\n",
    "\n",
    "# Function to execute a write query\n",
    "def write_query(tx, query):\n",
    "    tx.run(query)\n",
    "\n",
    "# Execute the queries\n",
    "with driver.session() as session:\n",
    "    for query in queries:\n",
    "        try:\n",
    "            session.execute_write(write_query, query)\n",
    "        except:\n",
    "            print(f\"Error with query: {query}\")\n",
    "# Close the connection\n",
    "driver.close()"
   ]
  },
  {
   "cell_type": "code",
   "execution_count": 35,
   "metadata": {},
   "outputs": [
    {
     "name": "stdout",
     "output_type": "stream",
     "text": [
      "\n",
      "\n",
      "\u001b[1m> Entering new GraphCypherQAChain chain...\u001b[0m\n",
      "Generated Cypher:\n",
      "\u001b[32;1m\u001b[1;3mMATCH (n:Label1)-[:RELATIONSHIP_TYPE]->(m:Label2)\n",
      "WHERE m.name = '交通部中華郵政股份有限公司'\n",
      "RETURN n\u001b[0m\n",
      "Full Context:\n",
      "\u001b[32;1m\u001b[1;3m[]\u001b[0m\n",
      "\n",
      "\u001b[1m> Finished chain.\u001b[0m\n"
     ]
    },
    {
     "data": {
      "text/plain": [
       "'我不知道答案。'"
      ]
     },
     "execution_count": 35,
     "metadata": {},
     "output_type": "execute_result"
    }
   ],
   "source": [
    "from langchain.chains import GraphCypherQAChain\n",
    "from langchain_community.graphs import Neo4jGraph\n",
    "from langchain_openai import ChatOpenAI\n",
    "\n",
    "graph = Neo4jGraph(url=URL, username=USERNAME, password=PASSWORD)\n",
    "\n",
    "chain = GraphCypherQAChain.from_llm(\n",
    "    ChatOpenAI(temperature=0), graph=graph, verbose=True\n",
    ")\n",
    "\n",
    "chain.run(\"交通部中華郵政股份有限公司有什麼概述\")"
   ]
  },
  {
   "cell_type": "code",
   "execution_count": null,
   "metadata": {},
   "outputs": [],
   "source": []
  }
 ],
 "metadata": {
  "kernelspec": {
   "display_name": "venv",
   "language": "python",
   "name": "python3"
  },
  "language_info": {
   "codemirror_mode": {
    "name": "ipython",
    "version": 3
   },
   "file_extension": ".py",
   "mimetype": "text/x-python",
   "name": "python",
   "nbconvert_exporter": "python",
   "pygments_lexer": "ipython3",
   "version": "3.10.12"
  }
 },
 "nbformat": 4,
 "nbformat_minor": 2
}
