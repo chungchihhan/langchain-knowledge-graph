{
 "cells": [
  {
   "cell_type": "code",
   "execution_count": 1,
   "metadata": {},
   "outputs": [
    {
     "data": {
      "text/plain": [
       "True"
      ]
     },
     "execution_count": 1,
     "metadata": {},
     "output_type": "execute_result"
    }
   ],
   "source": [
    "from dotenv import load_dotenv\n",
    "load_dotenv()"
   ]
  },
  {
   "cell_type": "code",
   "execution_count": 2,
   "metadata": {},
   "outputs": [
    {
     "name": "stderr",
     "output_type": "stream",
     "text": [
      "Created a chunk of size 252, which is longer than the specified 10\n",
      "Created a chunk of size 239, which is longer than the specified 10\n",
      "Created a chunk of size 234, which is longer than the specified 10\n",
      "Created a chunk of size 285, which is longer than the specified 10\n",
      "Created a chunk of size 253, which is longer than the specified 10\n",
      "Created a chunk of size 199, which is longer than the specified 10\n",
      "Created a chunk of size 264, which is longer than the specified 10\n",
      "Created a chunk of size 249, which is longer than the specified 10\n"
     ]
    }
   ],
   "source": [
    "import os\n",
    "from langchain.docstore.document import Document\n",
    "from langchain.text_splitter import CharacterTextSplitter\n",
    "from langchain_community.document_loaders import TextLoader\n",
    "from langchain_community.vectorstores import Neo4jVector\n",
    "from langchain_openai import OpenAIEmbeddings\n",
    "\n",
    "loader = TextLoader(\"files/love-story.txt\")\n",
    "\n",
    "documents = loader.load()\n",
    "text_splitter = CharacterTextSplitter(chunk_size=10, chunk_overlap=0)\n",
    "docs = text_splitter.split_documents(documents)\n",
    "\n",
    "embeddings = OpenAIEmbeddings()\n",
    "\n",
    "# The Neo4jVector Module will connect to Neo4j and create a vector index if needed.\n",
    "\n",
    "URL = os.getenv(\"URL\")\n",
    "USERNAME = os.getenv(\"USERNAME\")\n",
    "PASSWORD = os.getenv(\"PASSWORD\")\n",
    "\n",
    "db = Neo4jVector.from_documents(\n",
    "    docs, OpenAIEmbeddings(), url=URL, username=USERNAME, password=PASSWORD\n",
    ")\n",
    "\n",
    "query = \"who is Harry\"\n",
    "docs_with_score = db.similarity_search_with_score(query, k=2)"
   ]
  },
  {
   "cell_type": "code",
   "execution_count": 3,
   "metadata": {},
   "outputs": [
    {
     "data": {
      "text/plain": [
       "[(Document(page_content='Harry was a shy, unassuming guy who worked at a bookstore in a small college town. He spent his days surrounded by dusty tomes, reorganizing the shelves and ringing up purchases, occasionally stealing glances at the attractive students who wandered in.', metadata={'source': 'files/love-story.txt'}),\n",
       "  0.8912085294723511),\n",
       " (Document(page_content='Harry had gone from a shy introvert to a man brimming with love, confidence and purpose. And Sophia was the one who had unlocked that potential within him through her kindness, patience and adoration. Together, they would go forth into the world, bound by an unbreakable bond and endless future.', metadata={'source': 'files/love-story.txt'}),\n",
       "  0.8800807595252991)]"
      ]
     },
     "execution_count": 3,
     "metadata": {},
     "output_type": "execute_result"
    }
   ],
   "source": [
    "docs_with_score"
   ]
  },
  {
   "cell_type": "code",
   "execution_count": 8,
   "metadata": {},
   "outputs": [
    {
     "name": "stderr",
     "output_type": "stream",
     "text": [
      "/tmp/ipykernel_110460/1615192223.py:46: DeprecationWarning: write_transaction has been renamed to execute_write\n",
      "  session.write_transaction(write_query, query)\n",
      "Unable to retrieve routing information\n",
      "Transaction failed and will be retried in 0.8056052816521065s (Unable to retrieve routing information)\n"
     ]
    }
   ],
   "source": [
    "from neo4j import GraphDatabase\n",
    "\n",
    "# Connect to the Neo4j database\n",
    "URL = os.getenv(\"URL\")\n",
    "USERNAME = os.getenv(\"USERNAME\")\n",
    "PASSWORD = os.getenv(\"PASSWORD\")\n",
    "\n",
    "driver = GraphDatabase.driver(URL, auth=(USERNAME, PASSWORD))\n",
    "\n",
    "\n",
    "# Function to execute a write query\n",
    "def write_query(tx, query):\n",
    "    tx.run(query)\n",
    "\n",
    "# Cypher queries\n",
    "queries = [\n",
    "    \"CREATE (harry:Person {name: 'Harry'})\",\n",
    "    \"CREATE (sophia:Person {name: 'Sophia'})\",\n",
    "    \"CREATE (bookstore:Place {name: 'Bookstore'})\",\n",
    "    \"CREATE (collegeTown:Place {name: 'College Town'})\",\n",
    "    \"CREATE (park:Place {name: 'Park'})\",\n",
    "    \"CREATE (coffeeShop:Place {name: 'Coffee Shop'})\",\n",
    "    \"CREATE (creek:Place {name: 'Creek'})\",\n",
    "    \"CREATE (cityOverlook:Place {name: 'City Overlook'})\",\n",
    "    \"CREATE (wedding:Event {name: 'Wedding'})\",\n",
    "    \"MERGE (harry)-[:WORKS_AT]->(bookstore)\",\n",
    "    \"MERGE (harry)-[:LIVES_IN]->(collegeTown)\",\n",
    "    \"MERGE (sophia)-[:VISITS]->(bookstore)\",\n",
    "    \"MERGE (harry)-[:SMITTEN_WITH]->(sophia)\",\n",
    "    \"MERGE (harry)-[:OFFERS_UMBRELLA_TO]->(sophia)\",\n",
    "    \"MERGE (harry)-[:WALKS_HOME_WITH]->(sophia)\",\n",
    "    \"MERGE (harry)-[:IN_RELATIONSHIP_WITH]->(sophia)\",\n",
    "    \"MERGE (harry)-[:TAKES_CLASSES]->(collegeTown)\",\n",
    "    \"MERGE (harry)-[:PROPOSES_TO]->(sophia)\",\n",
    "    \"MERGE (harry)-[:MARRIES]->(sophia)\",\n",
    "    \"MERGE (harry)-[:GO_TO]->(park)\",\n",
    "    \"MERGE (harry)-[:GO_TO]->(coffeeShop)\",\n",
    "    \"MERGE (harry)-[:GO_TO]->(creek)\",\n",
    "    \"MERGE (wedding)-[:CELEBRATES_UNION_OF]->(harry)\",\n",
    "    \"MERGE (wedding)-[:CELEBRATES_UNION_OF]->(sophia)\"\n",
    "]\n",
    "\n",
    "# Execute the queries\n",
    "with driver.session() as session:\n",
    "    for query in queries:\n",
    "        session.write_transaction(write_query, query)\n",
    "\n",
    "# Close the connection\n",
    "driver.close()"
   ]
  },
  {
   "cell_type": "code",
   "execution_count": null,
   "metadata": {},
   "outputs": [],
   "source": []
  }
 ],
 "metadata": {
  "kernelspec": {
   "display_name": "venv",
   "language": "python",
   "name": "python3"
  },
  "language_info": {
   "codemirror_mode": {
    "name": "ipython",
    "version": 3
   },
   "file_extension": ".py",
   "mimetype": "text/x-python",
   "name": "python",
   "nbconvert_exporter": "python",
   "pygments_lexer": "ipython3",
   "version": "3.10.12"
  }
 },
 "nbformat": 4,
 "nbformat_minor": 2
}
