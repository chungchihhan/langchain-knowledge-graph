{
 "cells": [
  {
   "cell_type": "code",
   "execution_count": 3,
   "metadata": {},
   "outputs": [
    {
     "data": {
      "text/plain": [
       "True"
      ]
     },
     "execution_count": 3,
     "metadata": {},
     "output_type": "execute_result"
    }
   ],
   "source": [
    "from dotenv import load_dotenv\n",
    "load_dotenv()"
   ]
  },
  {
   "cell_type": "code",
   "execution_count": 5,
   "metadata": {},
   "outputs": [],
   "source": [
    "import pandas as pd\n",
    "import random\n",
    "import wikipedia as wp\n",
    "from wikipedia.exceptions import DisambiguationError, PageError\n",
    "import networkx as nx\n",
    "import matplotlib.pyplot as plt\n",
    "from langsmith import Client\n",
    "from langchain_core.tracers.context import tracing_v2_enabled\n",
    "import os\n",
    "\n",
    "# Now you can access the variables using os.environ\n",
    "api_key = os.environ.get(\"LANGCHAIN_API_KEY\")\n",
    "tracing_v2 = os.environ.get(\"LANGCHAIN_TRACING_V2\")\n",
    "project_name = os.environ.get(\"LANGCHAIN_PROJECT\")\n",
    "\n",
    "# Use the variables in your script\n",
    "os.environ[\"LANGCHAIN_API_KEY\"] = api_key\n",
    "os.environ[\"LANGCHAIN_TRACING_V2\"] = tracing_v2\n",
    "os.environ[\"LANGCHAIN_PROJECT\"] = project_name\n",
    "\n",
    "client = Client()\n"
   ]
  },
  {
   "cell_type": "code",
   "execution_count": 6,
   "metadata": {},
   "outputs": [
    {
     "name": "stdout",
     "output_type": "stream",
     "text": [
      "Data science is an interdisciplinary academic field that uses statistics, scientific computing, scientific methods, processes, algorithms and systems to extract or extrapolate knowledge and insights from potentially noisy, structured, or unstructured data.Data science also integrates domain knowledge from the underlying application domain (e.g., natural sciences, information technology, and medicine). Data science is multifaceted and can be described as a science, a research paradigm, a research method, a discipline, a workflow, and a profession.Data science is a \"concept to unify statistics, data analysis, informatics, and their related methods\" to \"understand and analyze actual phenomena\" with data. It uses techniques and theories drawn from many fields within the context of mathematics, statistics, computer science, information science, and domain knowledge. However, data science is different from computer science and information science. Turing Award winner Jim Gray imagined data science as a \"fourth paradigm\" of science (empirical, theoretical, computational, and now data-driven) and asserted that \"everything about science is changing because of the impact of information technology\" and the data deluge.A  data scientist is a professional who creates programming code and combines it with statistical knowledge to create insights from data.\n"
     ]
    }
   ],
   "source": [
    "print(wp.summary(\"data science\"))"
   ]
  },
  {
   "cell_type": "code",
   "execution_count": null,
   "metadata": {},
   "outputs": [],
   "source": []
  }
 ],
 "metadata": {
  "kernelspec": {
   "display_name": "venv",
   "language": "python",
   "name": "python3"
  },
  "language_info": {
   "codemirror_mode": {
    "name": "ipython",
    "version": 3
   },
   "file_extension": ".py",
   "mimetype": "text/x-python",
   "name": "python",
   "nbconvert_exporter": "python",
   "pygments_lexer": "ipython3",
   "version": "3.10.12"
  }
 },
 "nbformat": 4,
 "nbformat_minor": 2
}
